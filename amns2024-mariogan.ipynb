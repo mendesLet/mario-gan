{
 "cells": [
  {
   "cell_type": "code",
   "execution_count": 25,
   "metadata": {
    "_cell_guid": "b1076dfc-b9ad-4769-8c92-a6c4dae69d19",
    "_uuid": "8f2839f25d086af736a60e9eeb907d3b93b6e0e5",
    "trusted": true
   },
   "outputs": [],
   "source": [
    "# !pip install pandas\n",
    "\n",
    "import numpy as np \n",
    "import pandas as pd \n",
    "import os"
   ]
  },
  {
   "cell_type": "code",
   "execution_count": 26,
   "metadata": {
    "execution": {
     "iopub.execute_input": "2024-12-13T04:40:42.461594Z",
     "iopub.status.busy": "2024-12-13T04:40:42.460718Z",
     "iopub.status.idle": "2024-12-13T04:40:43.488916Z",
     "shell.execute_reply": "2024-12-13T04:40:43.488053Z",
     "shell.execute_reply.started": "2024-12-13T04:40:42.461553Z"
    },
    "trusted": true
   },
   "outputs": [
    {
     "name": "stdout",
     "output_type": "stream",
     "text": [
      "ENCODING_MAP = {\n",
      "    \"-\": (0, 0),  # Sky\n",
      "    \"o\": (0, 100),  # Coin\n",
      "    \"X\": (1, 100),  # Ground\n",
      "    \"S\": (0, 115),  # Brick\n",
      "    \"C\": (0, 130),  # Coin Brick Block\n",
      "    \"U\": (0, 145),  # Mushroom Brick Block\n",
      "    \"?\": (0, 160),  # Special Question Block\n",
      "    \"!\": (0, 175),  # Question Block\n",
      "    \"1\": (0, 190),  # Invisible 1 up block\n",
      "    \"2\": (0, 205),  # Invisible coin block\n",
      "    \"g\": (2, 100), # Goomba (Removed E)\n",
      "    \"G\": (2, 115), # Winged Goomba\n",
      "    \"k\": (2, 130), # Green Koopa\n",
      "    \"K\": (2, 145), # Winged Green Koopa\n",
      "    \"r\": (2, 160), # Red Koopa\n",
      "    \"R\": (2, 175), # Winged Red Koopa\n",
      "    \"y\": (2, 190), # Spiky\n",
      "    \"B\": (2, 205), # Bullet Billington head\n",
      "    \"b\": (2, 220), # Bullet Billington body\n",
      "    \"<\": (3, 100), # Top left pipe\n",
      "    \">\": (3, 115), # Top right pipe\n",
      "    \"(\": (3, 130), # Top left pipe with plant\n",
      "    \")\": (3, 145), # Top right pipe with plant\n",
      "    \"[\": (3, 175), # Left pipe\n",
      "    \"]\": (3, 190), # Right pipe\n",
      "    \"#\": (0, 220), # Hard Block\n",
      "    \"L\": (1, 150), # 1 Up Block\n",
      "    \"E\": (2, 220), # Enemys\n",
      "}\n",
      "\n",
      "class BidirectionalMap:\n",
      "    def __init__(self, mapping):\n",
      "        self.key_to_value = mapping\n",
      "        self.value_to_key = {v: k for k, v in mapping.items()}\n",
      "\n",
      "    def get_value(self, key):\n",
      "        return self.key_to_value.get(key)\n",
      "\n",
      "    def get_key(self, value):\n",
      "        return self.value_to_key.get(value)\n",
      "\n",
      "# Create the bidirectional map object\n",
      "mapping = {\n",
      "    '-': (0, 0), 'o': (0, 100), 'X': (1, 100), 'S': (0, 115),\n",
      "    'C': (0, 130), 'U': (0, 145), '?': (0, 160), '!': (0, 175),\n",
      "    '1': (0, 190), '2': (0, 205), 'g': (2, 100), 'G': (2, 115),\n",
      "    'k': (2, 130), 'K': (2, 145), 'r': (2, 160), 'R': (2, 175),\n",
      "    'y': (2, 190), 'B': (2, 205), 'b': (2, 220), '<': (3, 100),\n",
      "    '>': (3, 115), '(': (3, 130), ')': (3, 145), '[': (3, 175),\n",
      "    ']': (3, 190), '#': (0, 220), 'L': (1, 150), 'E': (2, 220)\n",
      "}\n",
      "\n",
      "ENCODING_MAP2 = BidirectionalMap(mapping)"
     ]
    }
   ],
   "source": [
    "!cat ./dataset/classes.py"
   ]
  },
  {
   "cell_type": "code",
   "execution_count": 27,
   "metadata": {
    "execution": {
     "iopub.execute_input": "2024-12-13T04:41:14.571234Z",
     "iopub.status.busy": "2024-12-13T04:41:14.570448Z",
     "iopub.status.idle": "2024-12-13T04:41:14.624115Z",
     "shell.execute_reply": "2024-12-13T04:41:14.623346Z",
     "shell.execute_reply.started": "2024-12-13T04:41:14.571196Z"
    },
    "trusted": true
   },
   "outputs": [
    {
     "data": {
      "text/plain": [
       "(1360, 16, 16)"
      ]
     },
     "execution_count": 27,
     "metadata": {},
     "output_type": "execute_result"
    }
   ],
   "source": [
    "import json\n",
    "\n",
    "\n",
    "file_path = './dataset/full_level.json'\n",
    "\n",
    "# Open and load the JSON file\n",
    "with open(file_path, 'r') as file:\n",
    "    data = json.load(file)\n",
    "\n",
    "# Display the loaded data\n",
    "len(data), len(data[0]), len(data[0][0])"
   ]
  },
  {
   "cell_type": "code",
   "execution_count": 28,
   "metadata": {
    "execution": {
     "iopub.execute_input": "2024-12-13T04:41:21.835455Z",
     "iopub.status.busy": "2024-12-13T04:41:21.835116Z",
     "iopub.status.idle": "2024-12-13T04:41:21.868587Z",
     "shell.execute_reply": "2024-12-13T04:41:21.867757Z",
     "shell.execute_reply.started": "2024-12-13T04:41:21.835424Z"
    },
    "trusted": true
   },
   "outputs": [],
   "source": [
    "from dataset.classes import ENCODING_MAP"
   ]
  },
  {
   "cell_type": "code",
   "execution_count": 29,
   "metadata": {
    "execution": {
     "iopub.execute_input": "2024-12-13T04:41:34.718097Z",
     "iopub.status.busy": "2024-12-13T04:41:34.717353Z",
     "iopub.status.idle": "2024-12-13T04:41:34.723861Z",
     "shell.execute_reply": "2024-12-13T04:41:34.723091Z",
     "shell.execute_reply.started": "2024-12-13T04:41:34.718062Z"
    },
    "trusted": true
   },
   "outputs": [
    {
     "data": {
      "text/plain": [
       "{'-': (0, 0),\n",
       " 'o': (0, 100),\n",
       " 'X': (1, 100),\n",
       " 'S': (0, 115),\n",
       " 'C': (0, 130),\n",
       " 'U': (0, 145),\n",
       " '?': (0, 160),\n",
       " '!': (0, 175),\n",
       " '1': (0, 190),\n",
       " '2': (0, 205),\n",
       " 'g': (2, 100),\n",
       " 'G': (2, 115),\n",
       " 'k': (2, 130),\n",
       " 'K': (2, 145),\n",
       " 'r': (2, 160),\n",
       " 'R': (2, 175),\n",
       " 'y': (2, 190),\n",
       " 'B': (2, 205),\n",
       " 'b': (2, 220),\n",
       " '<': (3, 100),\n",
       " '>': (3, 115),\n",
       " '(': (3, 130),\n",
       " ')': (3, 145),\n",
       " '[': (3, 175),\n",
       " ']': (3, 190),\n",
       " '#': (0, 220),\n",
       " 'L': (1, 150),\n",
       " 'E': (2, 220)}"
      ]
     },
     "execution_count": 29,
     "metadata": {},
     "output_type": "execute_result"
    }
   ],
   "source": [
    "ENCODING_MAP"
   ]
  },
  {
   "cell_type": "code",
   "execution_count": 30,
   "metadata": {
    "execution": {
     "iopub.execute_input": "2024-12-13T04:41:35.123870Z",
     "iopub.status.busy": "2024-12-13T04:41:35.123554Z",
     "iopub.status.idle": "2024-12-13T04:41:35.127793Z",
     "shell.execute_reply": "2024-12-13T04:41:35.126914Z",
     "shell.execute_reply.started": "2024-12-13T04:41:35.123839Z"
    },
    "trusted": true
   },
   "outputs": [],
   "source": [
    "from dataset.classes import ENCODING_MAP2"
   ]
  },
  {
   "cell_type": "code",
   "execution_count": 31,
   "metadata": {
    "execution": {
     "iopub.execute_input": "2024-12-13T04:41:39.671906Z",
     "iopub.status.busy": "2024-12-13T04:41:39.671573Z",
     "iopub.status.idle": "2024-12-13T04:41:39.677327Z",
     "shell.execute_reply": "2024-12-13T04:41:39.676449Z",
     "shell.execute_reply.started": "2024-12-13T04:41:39.671877Z"
    },
    "trusted": true
   },
   "outputs": [
    {
     "name": "stdout",
     "output_type": "stream",
     "text": [
      "Value for key 'X': (1, 100)\n",
      "Key for value (2, 100): g\n"
     ]
    }
   ],
   "source": [
    "\n",
    "value = ENCODING_MAP2.get_value('X')  \n",
    "key = ENCODING_MAP2.get_key((2, 100)) \n",
    "\n",
    "print(f\"Value for key 'X': {value}\")\n",
    "print(f\"Key for value (2, 100): {key}\")"
   ]
  },
  {
   "cell_type": "code",
   "execution_count": 32,
   "metadata": {
    "execution": {
     "iopub.execute_input": "2024-12-13T04:42:20.352036Z",
     "iopub.status.busy": "2024-12-13T04:42:20.351678Z",
     "iopub.status.idle": "2024-12-13T04:42:20.509012Z",
     "shell.execute_reply": "2024-12-13T04:42:20.508096Z",
     "shell.execute_reply.started": "2024-12-13T04:42:20.352007Z"
    },
    "trusted": true
   },
   "outputs": [],
   "source": [
    "import numpy as np \n",
    "\n",
    "tensor_list = []\n",
    "for idx, img_data in enumerate(data):\n",
    "    # Convert the 16x16 nested list to a numpy array\n",
    "    tensor = np.zeros((16, 16, 4))\n",
    "    for i, row in enumerate(img_data):\n",
    "        for j, value in enumerate(row):\n",
    "            channel, value = ENCODING_MAP[value]\n",
    "            tensor[i, j, channel] = value\n",
    "    tensor_list.append(tensor)\n",
    "    # Create an image from the numpy array\n",
    "    # img = Image.fromarray(img_array)\n",
    "    \n",
    "    # Save the image\n",
    "    # img.save(f'tensor_test/image_{idx}.png')"
   ]
  },
  {
   "cell_type": "code",
   "execution_count": 33,
   "metadata": {
    "execution": {
     "iopub.execute_input": "2024-12-13T04:42:21.925471Z",
     "iopub.status.busy": "2024-12-13T04:42:21.924853Z",
     "iopub.status.idle": "2024-12-13T04:42:21.930680Z",
     "shell.execute_reply": "2024-12-13T04:42:21.929866Z",
     "shell.execute_reply.started": "2024-12-13T04:42:21.925437Z"
    },
    "trusted": true
   },
   "outputs": [
    {
     "data": {
      "text/plain": [
       "1360"
      ]
     },
     "execution_count": 33,
     "metadata": {},
     "output_type": "execute_result"
    }
   ],
   "source": [
    "len(tensor_list)"
   ]
  },
  {
   "cell_type": "code",
   "execution_count": 34,
   "metadata": {
    "execution": {
     "iopub.execute_input": "2024-12-13T04:42:25.281981Z",
     "iopub.status.busy": "2024-12-13T04:42:25.281359Z",
     "iopub.status.idle": "2024-12-13T04:42:25.503664Z",
     "shell.execute_reply": "2024-12-13T04:42:25.502755Z",
     "shell.execute_reply.started": "2024-12-13T04:42:25.281945Z"
    },
    "trusted": true
   },
   "outputs": [],
   "source": [
    "from PIL import Image\n",
    "import numpy as np\n",
    "tiles_dir = 'dataset/tiles'\n",
    "chars2pngs = {\n",
    "        \"-\": Image.open(f\"{tiles_dir}/smb-background.png\"),\n",
    "        \"X\": Image.open(f\"{tiles_dir}/ground.png\"),\n",
    "        \"#\": Image.open(f\"{tiles_dir}/smb-unpassable.png\"),\n",
    "        \"S\": Image.open(f\"{tiles_dir}/smb-breakable.png\"),\n",
    "        \"?\": Image.open(f\"{tiles_dir}/special_question_block.png\"),\n",
    "        \"Q\": Image.open(f\"{tiles_dir}/special_question_block.png\"),\n",
    "        \"o\": Image.open(f\"{tiles_dir}/coin.png\"),\n",
    "        \"E\": Image.open(f\"{tiles_dir}/blue_goomba.png\"),\n",
    "        \"<\": Image.open(f\"{tiles_dir}/smb-tube-top-left.png\"),\n",
    "        \">\": Image.open(f\"{tiles_dir}/smb-tube-top-right.png\"),\n",
    "        \"(\": Image.open(f\"{tiles_dir}/white_pipe_top_left.png\"),\n",
    "        \")\": Image.open(f\"{tiles_dir}/white_pipe_top_right.png\"),\n",
    "        \"[\": Image.open(f\"{tiles_dir}/smb-tube-lower-left.png\"),\n",
    "        \"]\": Image.open(f\"{tiles_dir}/smb-tube-lower-right.png\"),\n",
    "        \"x\": Image.open(f\"{tiles_dir}/smb-path.png\"),  # self-created\n",
    "        \"Y\": Image.fromarray(\n",
    "            np.uint8(np.zeros((16, 16)))\n",
    "        ),  # black square,  # self-created\n",
    "        \"N\": Image.open(f\"{tiles_dir}/N.png\"),  # self-created\n",
    "        \"B\": Image.open(f\"{tiles_dir}/cannon_top.png\"),\n",
    "        \"b\": Image.open(f\"{tiles_dir}/cannon_bottom.png\"),\n",
    "        \"F\": Image.open(f\"{tiles_dir}/icon_interrogation.png\"),\n",
    "\n",
    "        \"C\": Image.open(f\"{tiles_dir}/yellow_brick.png\"), # Coin Brick Block\n",
    "        \"U\": Image.open(f\"{tiles_dir}/red_brick.png\"), # Mushroom Brick Block\n",
    "        \"!\": Image.open(f\"{tiles_dir}/smb-question.png\"), # Question Block (changed from Q)\n",
    "        \"L\": Image.open(f\"{tiles_dir}/life.png\"), # Invisible 1 up block\n",
    "        \"2\": Image.open(f\"{tiles_dir}/coin2.png\"), # Invisible coin block\n",
    "        \"g\": Image.open(f\"{tiles_dir}/goomba.png\"),\n",
    "        \"G\": Image.open(f\"{tiles_dir}/white_goomba.png\"),\n",
    "        \"k\": Image.open(f\"{tiles_dir}/koopa.png\"),\n",
    "        \"K\": Image.open(f\"{tiles_dir}/winged_koopa.png\"),\n",
    "        \"r\": Image.open(f\"{tiles_dir}/red_koopa.png\"),\n",
    "        \"R\": Image.open(f\"{tiles_dir}/winged_red_koopa.png\"),\n",
    "        \"y\": Image.open(f\"{tiles_dir}/spiny.png\"),\n",
    "        \"t\": Image.open(f\"{tiles_dir}/icon_interrogation.png\"),\n",
    "        \"T\": Image.open(f\"{tiles_dir}/icon_interrogation.png\"),\n",
    "    }"
   ]
  },
  {
   "cell_type": "code",
   "execution_count": 35,
   "metadata": {
    "execution": {
     "iopub.execute_input": "2024-12-13T04:42:29.852935Z",
     "iopub.status.busy": "2024-12-13T04:42:29.852614Z",
     "iopub.status.idle": "2024-12-13T04:42:29.859806Z",
     "shell.execute_reply": "2024-12-13T04:42:29.858938Z",
     "shell.execute_reply.started": "2024-12-13T04:42:29.852908Z"
    },
    "trusted": true
   },
   "outputs": [],
   "source": [
    "import math\n",
    "import os\n",
    "from typing import List, Union\n",
    "from PIL import Image\n",
    "\n",
    "def char_array_to_image(array, chars2pngs, target_size=None):\n",
    "    \"\"\"\n",
    "    Convert a 16-by-16 array of integers into a PIL.Image object\n",
    "    param: array: a 16-by-16 array of integers\n",
    "    \"\"\"\n",
    "    if target_size is None:\n",
    "        image = Image.new(\"RGB\", (array.shape[1] * 16, array.shape[0] * 16))\n",
    "    else:\n",
    "        image = Image.new(\"RGB\", (target_size[1] * 16, target_size[0] * 16))\n",
    "    print(array.shape)\n",
    "    for i in range(array.shape[0]):  # Iterate over rows\n",
    "        for j in range(array.shape[1]):  # Iterate over columns\n",
    "            max_value = np.max(array[i, j, :])\n",
    "            max_index = np.argmax(array[i, j, :])\n",
    "            value = chars2pngs[ENCODING_MAP2.get_key((max_index, max_value))]  # Retrieve the item            \n",
    "            # for k in range(array.shape[2]):  # Iterate over channels\n",
    "            #     value = chars2pngs[ENCODING_MAP2.get_key((k, array[i,j,k]))]  # Retrieve the item\n",
    "            #     # Process the item here\n",
    "            #     # print(f\"Item at position ({i}, {j}, {k}): {item}\")\n",
    "            image.paste(value, (j * 16, i * 16))  \n",
    "\n",
    "    # for row in range(array.shape[0]):\n",
    "    #     for col, char in enumerate(array[row]):\n",
    "    #         value = chars2pngs[\"-\"]\n",
    "    #         if char in chars2pngs:\n",
    "    #             value = chars2pngs[char]\n",
    "    #         else:\n",
    "    #             print(f\"REPLACING {value}\", (col, row))\n",
    "    return image"
   ]
  },
  {
   "cell_type": "code",
   "execution_count": 36,
   "metadata": {
    "execution": {
     "iopub.execute_input": "2024-12-13T04:42:33.999879Z",
     "iopub.status.busy": "2024-12-13T04:42:33.999217Z",
     "iopub.status.idle": "2024-12-13T04:42:34.334611Z",
     "shell.execute_reply": "2024-12-13T04:42:34.333755Z",
     "shell.execute_reply.started": "2024-12-13T04:42:33.999843Z"
    },
    "trusted": true
   },
   "outputs": [
    {
     "name": "stderr",
     "output_type": "stream",
     "text": [
      "Clipping input data to the valid range for imshow with RGB data ([0..1] for floats or [0..255] for integers). Got range [0.0..100.0].\n"
     ]
    },
    {
     "data": {
      "image/png": "[encoded data removed]",
      "text/plain": [
       "<Figure size 640x480 with 1 Axes>"
      ]
     },
     "metadata": {},
     "output_type": "display_data"
    },
    {
     "name": "stdout",
     "output_type": "stream",
     "text": [
      "(16, 16, 4)\n"
     ]
    },
    {
     "data": {
      "image/png": "[encoded data removed]",
      "text/plain": [
       "<PIL.Image.Image image mode=RGB size=256x256>"
      ]
     },
     "execution_count": 36,
     "metadata": {},
     "output_type": "execute_result"
    }
   ],
   "source": [
    "# !pip -q install matplotlib\n",
    "import matplotlib.pyplot as plt\n",
    "\n",
    "# idx = 20\n",
    "idx = 32\n",
    "r = tensor_list[idx][:, :, 0]\n",
    "g = tensor_list[idx][:, :, 1]\n",
    "b = tensor_list[idx][:, :, 2]\n",
    "y = tensor_list[idx][:, :, 3]\n",
    "\n",
    "# Modify red and green channels based on yellow intensity\n",
    "r = r + y  # Add yellow to red\n",
    "g = g + y  # Add yellow to green\n",
    "\n",
    "# Clip values to the valid range (0-1)\n",
    "r = np.clip(r, 0, 1)\n",
    "g = np.clip(g, 0, 1)\n",
    "\n",
    "rgba_image = np.stack([r, g, b], axis=-1) \n",
    "\n",
    "plt.imshow(rgba_image)\n",
    "plt.title(\"Image with R, G, B, Y Channels\")\n",
    "plt.show()\n",
    "char_array_to_image(tensor_list[idx], chars2pngs)"
   ]
  },
  {
   "cell_type": "code",
   "execution_count": 37,
   "metadata": {
    "execution": {
     "iopub.execute_input": "2024-12-13T04:44:06.900129Z",
     "iopub.status.busy": "2024-12-13T04:44:06.899798Z",
     "iopub.status.idle": "2024-12-13T04:44:06.911298Z",
     "shell.execute_reply": "2024-12-13T04:44:06.910585Z",
     "shell.execute_reply.started": "2024-12-13T04:44:06.900104Z"
    },
    "trusted": true
   },
   "outputs": [],
   "source": [
    "aggregated_tensor = np.stack(tensor_list, axis=0)"
   ]
  },
  {
   "cell_type": "code",
   "execution_count": 38,
   "metadata": {},
   "outputs": [
    {
     "name": "stdout",
     "output_type": "stream",
     "text": [
      "\u001b[33mWARNING: Running pip as the 'root' user can result in broken permissions and conflicting behaviour with the system package manager. It is recommended to use a virtual environment instead: https://pip.pypa.io/warnings/venv\u001b[0m\u001b[33m\n",
      "\u001b[0m"
     ]
    }
   ],
   "source": [
    "!python3 -m pip -q install tensorflow"
   ]
  },
  {
   "cell_type": "code",
   "execution_count": 39,
   "metadata": {
    "execution": {
     "iopub.execute_input": "2024-12-13T04:42:40.853241Z",
     "iopub.status.busy": "2024-12-13T04:42:40.852264Z",
     "iopub.status.idle": "2024-12-13T04:43:00.568595Z",
     "shell.execute_reply": "2024-12-13T04:43:00.567909Z",
     "shell.execute_reply.started": "2024-12-13T04:42:40.853204Z"
    },
    "trusted": true
   },
   "outputs": [],
   "source": [
    "import tensorflow as tf\n",
    "import numpy as np\n",
    "\n",
    "# Hyperparameters\n",
    "epochs = 8000\n",
    "batch_size = 16\n",
    "half_batch = batch_size // 2\n",
    "\n",
    "# Generate fake data for testing\n",
    "# Assume input shape is (16, 4, 4) based on your DCGAN settings\n",
    "num_samples = 1000  # Number of samples\n",
    "img_rows, img_cols, channels = 16, 16, 4\n",
    "# feature_input_data = np.random.rand(num_samples, img_rows, img_cols, channels).astype('float32')\n"
   ]
  },
  {
   "cell_type": "code",
   "execution_count": 40,
   "metadata": {
    "execution": {
     "iopub.execute_input": "2024-12-13T04:43:00.570556Z",
     "iopub.status.busy": "2024-12-13T04:43:00.570079Z",
     "iopub.status.idle": "2024-12-13T04:43:00.582518Z",
     "shell.execute_reply": "2024-12-13T04:43:00.581534Z",
     "shell.execute_reply.started": "2024-12-13T04:43:00.570524Z"
    },
    "trusted": true
   },
   "outputs": [],
   "source": [
    "from model import DCGAN"
   ]
  },
  {
   "cell_type": "code",
   "execution_count": null,
   "metadata": {
    "execution": {
     "iopub.execute_input": "2024-12-13T04:43:00.583931Z",
     "iopub.status.busy": "2024-12-13T04:43:00.583619Z",
     "iopub.status.idle": "2024-12-13T04:43:01.957632Z",
     "shell.execute_reply": "2024-12-13T04:43:01.956923Z",
     "shell.execute_reply.started": "2024-12-13T04:43:00.583893Z"
    },
    "trusted": true
   },
   "outputs": [
    {
     "data": {
      "text/html": [
       "<pre style=\"white-space:pre;overflow-x:auto;line-height:normal;font-family:Menlo,'DejaVu Sans Mono',consolas,'Courier New',monospace\"><span style=\"font-weight: bold\">Model: \"Feature_Extraction\"</span>\n",
       "</pre>\n"
      ],
      "text/plain": [
       "\u001b[1mModel: \"Feature_Extraction\"\u001b[0m\n"
      ]
     },
     "metadata": {},
     "output_type": "display_data"
    },
    {
     "data": {
      "text/html": [
       "<pre style=\"white-space:pre;overflow-x:auto;line-height:normal;font-family:Menlo,'DejaVu Sans Mono',consolas,'Courier New',monospace\">┏━━━━━━━━━━━━━━━━━━━━━━━━━━━━━━━━━┳━━━━━━━━━━━━━━━━━━━━━━━━┳━━━━━━━━━━━━━━━┓\n",
       "┃<span style=\"font-weight: bold\"> Layer (type)                    </span>┃<span style=\"font-weight: bold\"> Output Shape           </span>┃<span style=\"font-weight: bold\">       Param # </span>┃\n",
       "┡━━━━━━━━━━━━━━━━━━━━━━━━━━━━━━━━━╇━━━━━━━━━━━━━━━━━━━━━━━━╇━━━━━━━━━━━━━━━┩\n",
       "│ input_layer_10 (<span style=\"color: #0087ff; text-decoration-color: #0087ff\">InputLayer</span>)     │ (<span style=\"color: #00d7ff; text-decoration-color: #00d7ff\">None</span>, <span style=\"color: #00af00; text-decoration-color: #00af00\">16</span>, <span style=\"color: #00af00; text-decoration-color: #00af00\">4</span>, <span style=\"color: #00af00; text-decoration-color: #00af00\">4</span>)       │             <span style=\"color: #00af00; text-decoration-color: #00af00\">0</span> │\n",
       "├─────────────────────────────────┼────────────────────────┼───────────────┤\n",
       "│ conv2d_6 (<span style=\"color: #0087ff; text-decoration-color: #0087ff\">Conv2D</span>)               │ (<span style=\"color: #00d7ff; text-decoration-color: #00d7ff\">None</span>, <span style=\"color: #00af00; text-decoration-color: #00af00\">16</span>, <span style=\"color: #00af00; text-decoration-color: #00af00\">4</span>, <span style=\"color: #00af00; text-decoration-color: #00af00\">16</span>)      │           <span style=\"color: #00af00; text-decoration-color: #00af00\">592</span> │\n",
       "├─────────────────────────────────┼────────────────────────┼───────────────┤\n",
       "│ conv2d_7 (<span style=\"color: #0087ff; text-decoration-color: #0087ff\">Conv2D</span>)               │ (<span style=\"color: #00d7ff; text-decoration-color: #00d7ff\">None</span>, <span style=\"color: #00af00; text-decoration-color: #00af00\">16</span>, <span style=\"color: #00af00; text-decoration-color: #00af00\">4</span>, <span style=\"color: #00af00; text-decoration-color: #00af00\">32</span>)      │         <span style=\"color: #00af00; text-decoration-color: #00af00\">4,640</span> │\n",
       "├─────────────────────────────────┼────────────────────────┼───────────────┤\n",
       "│ flatten_4 (<span style=\"color: #0087ff; text-decoration-color: #0087ff\">Flatten</span>)             │ (<span style=\"color: #00d7ff; text-decoration-color: #00d7ff\">None</span>, <span style=\"color: #00af00; text-decoration-color: #00af00\">2048</span>)           │             <span style=\"color: #00af00; text-decoration-color: #00af00\">0</span> │\n",
       "├─────────────────────────────────┼────────────────────────┼───────────────┤\n",
       "│ dense_4 (<span style=\"color: #0087ff; text-decoration-color: #0087ff\">Dense</span>)                 │ (<span style=\"color: #00d7ff; text-decoration-color: #00d7ff\">None</span>, <span style=\"color: #00af00; text-decoration-color: #00af00\">46</span>)             │        <span style=\"color: #00af00; text-decoration-color: #00af00\">94,254</span> │\n",
       "└─────────────────────────────────┴────────────────────────┴───────────────┘\n",
       "</pre>\n"
      ],
      "text/plain": [
       "┏━━━━━━━━━━━━━━━━━━━━━━━━━━━━━━━━━┳━━━━━━━━━━━━━━━━━━━━━━━━┳━━━━━━━━━━━━━━━┓\n",
       "┃\u001b[1m \u001b[0m\u001b[1mLayer (type)                   \u001b[0m\u001b[1m \u001b[0m┃\u001b[1m \u001b[0m\u001b[1mOutput Shape          \u001b[0m\u001b[1m \u001b[0m┃\u001b[1m \u001b[0m\u001b[1m      Param #\u001b[0m\u001b[1m \u001b[0m┃\n",
       "┡━━━━━━━━━━━━━━━━━━━━━━━━━━━━━━━━━╇━━━━━━━━━━━━━━━━━━━━━━━━╇━━━━━━━━━━━━━━━┩\n",
       "│ input_layer_10 (\u001b[38;5;33mInputLayer\u001b[0m)     │ (\u001b[38;5;45mNone\u001b[0m, \u001b[38;5;34m16\u001b[0m, \u001b[38;5;34m4\u001b[0m, \u001b[38;5;34m4\u001b[0m)       │             \u001b[38;5;34m0\u001b[0m │\n",
       "├─────────────────────────────────┼────────────────────────┼───────────────┤\n",
       "│ conv2d_6 (\u001b[38;5;33mConv2D\u001b[0m)               │ (\u001b[38;5;45mNone\u001b[0m, \u001b[38;5;34m16\u001b[0m, \u001b[38;5;34m4\u001b[0m, \u001b[38;5;34m16\u001b[0m)      │           \u001b[38;5;34m592\u001b[0m │\n",
       "├─────────────────────────────────┼────────────────────────┼───────────────┤\n",
       "│ conv2d_7 (\u001b[38;5;33mConv2D\u001b[0m)               │ (\u001b[38;5;45mNone\u001b[0m, \u001b[38;5;34m16\u001b[0m, \u001b[38;5;34m4\u001b[0m, \u001b[38;5;34m32\u001b[0m)      │         \u001b[38;5;34m4,640\u001b[0m │\n",
       "├─────────────────────────────────┼────────────────────────┼───────────────┤\n",
       "│ flatten_4 (\u001b[38;5;33mFlatten\u001b[0m)             │ (\u001b[38;5;45mNone\u001b[0m, \u001b[38;5;34m2048\u001b[0m)           │             \u001b[38;5;34m0\u001b[0m │\n",
       "├─────────────────────────────────┼────────────────────────┼───────────────┤\n",
       "│ dense_4 (\u001b[38;5;33mDense\u001b[0m)                 │ (\u001b[38;5;45mNone\u001b[0m, \u001b[38;5;34m46\u001b[0m)             │        \u001b[38;5;34m94,254\u001b[0m │\n",
       "└─────────────────────────────────┴────────────────────────┴───────────────┘\n"
      ]
     },
     "metadata": {},
     "output_type": "display_data"
    },
    {
     "data": {
      "text/html": [
       "<pre style=\"white-space:pre;overflow-x:auto;line-height:normal;font-family:Menlo,'DejaVu Sans Mono',consolas,'Courier New',monospace\"><span style=\"font-weight: bold\"> Total params: </span><span style=\"color: #00af00; text-decoration-color: #00af00\">99,486</span> (388.62 KB)\n",
       "</pre>\n"
      ],
      "text/plain": [
       "\u001b[1m Total params: \u001b[0m\u001b[38;5;34m99,486\u001b[0m (388.62 KB)\n"
      ]
     },
     "metadata": {},
     "output_type": "display_data"
    },
    {
     "data": {
      "text/html": [
       "<pre style=\"white-space:pre;overflow-x:auto;line-height:normal;font-family:Menlo,'DejaVu Sans Mono',consolas,'Courier New',monospace\"><span style=\"font-weight: bold\"> Trainable params: </span><span style=\"color: #00af00; text-decoration-color: #00af00\">99,486</span> (388.62 KB)\n",
       "</pre>\n"
      ],
      "text/plain": [
       "\u001b[1m Trainable params: \u001b[0m\u001b[38;5;34m99,486\u001b[0m (388.62 KB)\n"
      ]
     },
     "metadata": {},
     "output_type": "display_data"
    },
    {
     "data": {
      "text/html": [
       "<pre style=\"white-space:pre;overflow-x:auto;line-height:normal;font-family:Menlo,'DejaVu Sans Mono',consolas,'Courier New',monospace\"><span style=\"font-weight: bold\"> Non-trainable params: </span><span style=\"color: #00af00; text-decoration-color: #00af00\">0</span> (0.00 B)\n",
       "</pre>\n"
      ],
      "text/plain": [
       "\u001b[1m Non-trainable params: \u001b[0m\u001b[38;5;34m0\u001b[0m (0.00 B)\n"
      ]
     },
     "metadata": {},
     "output_type": "display_data"
    },
    {
     "data": {
      "text/html": [
       "<pre style=\"white-space:pre;overflow-x:auto;line-height:normal;font-family:Menlo,'DejaVu Sans Mono',consolas,'Courier New',monospace\"><span style=\"font-weight: bold\">Model: \"Generator\"</span>\n",
       "</pre>\n"
      ],
      "text/plain": [
       "\u001b[1mModel: \"Generator\"\u001b[0m\n"
      ]
     },
     "metadata": {},
     "output_type": "display_data"
    },
    {
     "data": {
      "text/html": [
       "<pre style=\"white-space:pre;overflow-x:auto;line-height:normal;font-family:Menlo,'DejaVu Sans Mono',consolas,'Courier New',monospace\">┏━━━━━━━━━━━━━━━━━━━━━┳━━━━━━━━━━━━━━━━━━━┳━━━━━━━━━━━━┳━━━━━━━━━━━━━━━━━━━┓\n",
       "┃<span style=\"font-weight: bold\"> Layer (type)        </span>┃<span style=\"font-weight: bold\"> Output Shape      </span>┃<span style=\"font-weight: bold\">    Param # </span>┃<span style=\"font-weight: bold\"> Connected to      </span>┃\n",
       "┡━━━━━━━━━━━━━━━━━━━━━╇━━━━━━━━━━━━━━━━━━━╇━━━━━━━━━━━━╇━━━━━━━━━━━━━━━━━━━┩\n",
       "│ input_layer_12      │ (<span style=\"color: #00d7ff; text-decoration-color: #00d7ff\">None</span>, <span style=\"color: #00af00; text-decoration-color: #00af00\">16</span>, <span style=\"color: #00af00; text-decoration-color: #00af00\">4</span>, <span style=\"color: #00af00; text-decoration-color: #00af00\">4</span>)  │          <span style=\"color: #00af00; text-decoration-color: #00af00\">0</span> │ -                 │\n",
       "│ (<span style=\"color: #0087ff; text-decoration-color: #0087ff\">InputLayer</span>)        │                   │            │                   │\n",
       "├─────────────────────┼───────────────────┼────────────┼───────────────────┤\n",
       "│ input_layer_11      │ (<span style=\"color: #00d7ff; text-decoration-color: #00d7ff\">None</span>, <span style=\"color: #00af00; text-decoration-color: #00af00\">46</span>)        │          <span style=\"color: #00af00; text-decoration-color: #00af00\">0</span> │ -                 │\n",
       "│ (<span style=\"color: #0087ff; text-decoration-color: #0087ff\">InputLayer</span>)        │                   │            │                   │\n",
       "├─────────────────────┼───────────────────┼────────────┼───────────────────┤\n",
       "│ flatten_5 (<span style=\"color: #0087ff; text-decoration-color: #0087ff\">Flatten</span>) │ (<span style=\"color: #00d7ff; text-decoration-color: #00d7ff\">None</span>, <span style=\"color: #00af00; text-decoration-color: #00af00\">256</span>)       │          <span style=\"color: #00af00; text-decoration-color: #00af00\">0</span> │ input_layer_12[<span style=\"color: #00af00; text-decoration-color: #00af00\">0</span>… │\n",
       "├─────────────────────┼───────────────────┼────────────┼───────────────────┤\n",
       "│ concatenate_2       │ (<span style=\"color: #00d7ff; text-decoration-color: #00d7ff\">None</span>, <span style=\"color: #00af00; text-decoration-color: #00af00\">302</span>)       │          <span style=\"color: #00af00; text-decoration-color: #00af00\">0</span> │ input_layer_11[<span style=\"color: #00af00; text-decoration-color: #00af00\">0</span>… │\n",
       "│ (<span style=\"color: #0087ff; text-decoration-color: #0087ff\">Concatenate</span>)       │                   │            │ flatten_5[<span style=\"color: #00af00; text-decoration-color: #00af00\">0</span>][<span style=\"color: #00af00; text-decoration-color: #00af00\">0</span>]   │\n",
       "├─────────────────────┼───────────────────┼────────────┼───────────────────┤\n",
       "│ dense_5 (<span style=\"color: #0087ff; text-decoration-color: #0087ff\">Dense</span>)     │ (<span style=\"color: #00d7ff; text-decoration-color: #00d7ff\">None</span>, <span style=\"color: #00af00; text-decoration-color: #00af00\">2048</span>)      │    <span style=\"color: #00af00; text-decoration-color: #00af00\">620,544</span> │ concatenate_2[<span style=\"color: #00af00; text-decoration-color: #00af00\">0</span>]… │\n",
       "├─────────────────────┼───────────────────┼────────────┼───────────────────┤\n",
       "│ reshape_2 (<span style=\"color: #0087ff; text-decoration-color: #0087ff\">Reshape</span>) │ (<span style=\"color: #00d7ff; text-decoration-color: #00d7ff\">None</span>, <span style=\"color: #00af00; text-decoration-color: #00af00\">16</span>, <span style=\"color: #00af00; text-decoration-color: #00af00\">4</span>, <span style=\"color: #00af00; text-decoration-color: #00af00\">32</span>) │          <span style=\"color: #00af00; text-decoration-color: #00af00\">0</span> │ dense_5[<span style=\"color: #00af00; text-decoration-color: #00af00\">0</span>][<span style=\"color: #00af00; text-decoration-color: #00af00\">0</span>]     │\n",
       "├─────────────────────┼───────────────────┼────────────┼───────────────────┤\n",
       "│ conv2d_transpose_6  │ (<span style=\"color: #00d7ff; text-decoration-color: #00d7ff\">None</span>, <span style=\"color: #00af00; text-decoration-color: #00af00\">16</span>, <span style=\"color: #00af00; text-decoration-color: #00af00\">4</span>, <span style=\"color: #00af00; text-decoration-color: #00af00\">64</span>) │     <span style=\"color: #00af00; text-decoration-color: #00af00\">18,496</span> │ reshape_2[<span style=\"color: #00af00; text-decoration-color: #00af00\">0</span>][<span style=\"color: #00af00; text-decoration-color: #00af00\">0</span>]   │\n",
       "│ (<span style=\"color: #0087ff; text-decoration-color: #0087ff\">Conv2DTranspose</span>)   │                   │            │                   │\n",
       "├─────────────────────┼───────────────────┼────────────┼───────────────────┤\n",
       "│ conv2d_transpose_7  │ (<span style=\"color: #00d7ff; text-decoration-color: #00d7ff\">None</span>, <span style=\"color: #00af00; text-decoration-color: #00af00\">16</span>, <span style=\"color: #00af00; text-decoration-color: #00af00\">4</span>, <span style=\"color: #00af00; text-decoration-color: #00af00\">32</span>) │     <span style=\"color: #00af00; text-decoration-color: #00af00\">18,464</span> │ conv2d_transpose… │\n",
       "│ (<span style=\"color: #0087ff; text-decoration-color: #0087ff\">Conv2DTranspose</span>)   │                   │            │                   │\n",
       "├─────────────────────┼───────────────────┼────────────┼───────────────────┤\n",
       "│ conv2d_transpose_8  │ (<span style=\"color: #00d7ff; text-decoration-color: #00d7ff\">None</span>, <span style=\"color: #00af00; text-decoration-color: #00af00\">16</span>, <span style=\"color: #00af00; text-decoration-color: #00af00\">4</span>, <span style=\"color: #00af00; text-decoration-color: #00af00\">16</span>) │      <span style=\"color: #00af00; text-decoration-color: #00af00\">4,624</span> │ conv2d_transpose… │\n",
       "│ (<span style=\"color: #0087ff; text-decoration-color: #0087ff\">Conv2DTranspose</span>)   │                   │            │                   │\n",
       "├─────────────────────┼───────────────────┼────────────┼───────────────────┤\n",
       "│ conv2d_8 (<span style=\"color: #0087ff; text-decoration-color: #0087ff\">Conv2D</span>)   │ (<span style=\"color: #00d7ff; text-decoration-color: #00d7ff\">None</span>, <span style=\"color: #00af00; text-decoration-color: #00af00\">16</span>, <span style=\"color: #00af00; text-decoration-color: #00af00\">4</span>, <span style=\"color: #00af00; text-decoration-color: #00af00\">4</span>)  │        <span style=\"color: #00af00; text-decoration-color: #00af00\">580</span> │ conv2d_transpose… │\n",
       "└─────────────────────┴───────────────────┴────────────┴───────────────────┘\n",
       "</pre>\n"
      ],
      "text/plain": [
       "┏━━━━━━━━━━━━━━━━━━━━━┳━━━━━━━━━━━━━━━━━━━┳━━━━━━━━━━━━┳━━━━━━━━━━━━━━━━━━━┓\n",
       "┃\u001b[1m \u001b[0m\u001b[1mLayer (type)       \u001b[0m\u001b[1m \u001b[0m┃\u001b[1m \u001b[0m\u001b[1mOutput Shape     \u001b[0m\u001b[1m \u001b[0m┃\u001b[1m \u001b[0m\u001b[1m   Param #\u001b[0m\u001b[1m \u001b[0m┃\u001b[1m \u001b[0m\u001b[1mConnected to     \u001b[0m\u001b[1m \u001b[0m┃\n",
       "┡━━━━━━━━━━━━━━━━━━━━━╇━━━━━━━━━━━━━━━━━━━╇━━━━━━━━━━━━╇━━━━━━━━━━━━━━━━━━━┩\n",
       "│ input_layer_12      │ (\u001b[38;5;45mNone\u001b[0m, \u001b[38;5;34m16\u001b[0m, \u001b[38;5;34m4\u001b[0m, \u001b[38;5;34m4\u001b[0m)  │          \u001b[38;5;34m0\u001b[0m │ -                 │\n",
       "│ (\u001b[38;5;33mInputLayer\u001b[0m)        │                   │            │                   │\n",
       "├─────────────────────┼───────────────────┼────────────┼───────────────────┤\n",
       "│ input_layer_11      │ (\u001b[38;5;45mNone\u001b[0m, \u001b[38;5;34m46\u001b[0m)        │          \u001b[38;5;34m0\u001b[0m │ -                 │\n",
       "│ (\u001b[38;5;33mInputLayer\u001b[0m)        │                   │            │                   │\n",
       "├─────────────────────┼───────────────────┼────────────┼───────────────────┤\n",
       "│ flatten_5 (\u001b[38;5;33mFlatten\u001b[0m) │ (\u001b[38;5;45mNone\u001b[0m, \u001b[38;5;34m256\u001b[0m)       │          \u001b[38;5;34m0\u001b[0m │ input_layer_12[\u001b[38;5;34m0\u001b[0m… │\n",
       "├─────────────────────┼───────────────────┼────────────┼───────────────────┤\n",
       "│ concatenate_2       │ (\u001b[38;5;45mNone\u001b[0m, \u001b[38;5;34m302\u001b[0m)       │          \u001b[38;5;34m0\u001b[0m │ input_layer_11[\u001b[38;5;34m0\u001b[0m… │\n",
       "│ (\u001b[38;5;33mConcatenate\u001b[0m)       │                   │            │ flatten_5[\u001b[38;5;34m0\u001b[0m][\u001b[38;5;34m0\u001b[0m]   │\n",
       "├─────────────────────┼───────────────────┼────────────┼───────────────────┤\n",
       "│ dense_5 (\u001b[38;5;33mDense\u001b[0m)     │ (\u001b[38;5;45mNone\u001b[0m, \u001b[38;5;34m2048\u001b[0m)      │    \u001b[38;5;34m620,544\u001b[0m │ concatenate_2[\u001b[38;5;34m0\u001b[0m]… │\n",
       "├─────────────────────┼───────────────────┼────────────┼───────────────────┤\n",
       "│ reshape_2 (\u001b[38;5;33mReshape\u001b[0m) │ (\u001b[38;5;45mNone\u001b[0m, \u001b[38;5;34m16\u001b[0m, \u001b[38;5;34m4\u001b[0m, \u001b[38;5;34m32\u001b[0m) │          \u001b[38;5;34m0\u001b[0m │ dense_5[\u001b[38;5;34m0\u001b[0m][\u001b[38;5;34m0\u001b[0m]     │\n",
       "├─────────────────────┼───────────────────┼────────────┼───────────────────┤\n",
       "│ conv2d_transpose_6  │ (\u001b[38;5;45mNone\u001b[0m, \u001b[38;5;34m16\u001b[0m, \u001b[38;5;34m4\u001b[0m, \u001b[38;5;34m64\u001b[0m) │     \u001b[38;5;34m18,496\u001b[0m │ reshape_2[\u001b[38;5;34m0\u001b[0m][\u001b[38;5;34m0\u001b[0m]   │\n",
       "│ (\u001b[38;5;33mConv2DTranspose\u001b[0m)   │                   │            │                   │\n",
       "├─────────────────────┼───────────────────┼────────────┼───────────────────┤\n",
       "│ conv2d_transpose_7  │ (\u001b[38;5;45mNone\u001b[0m, \u001b[38;5;34m16\u001b[0m, \u001b[38;5;34m4\u001b[0m, \u001b[38;5;34m32\u001b[0m) │     \u001b[38;5;34m18,464\u001b[0m │ conv2d_transpose… │\n",
       "│ (\u001b[38;5;33mConv2DTranspose\u001b[0m)   │                   │            │                   │\n",
       "├─────────────────────┼───────────────────┼────────────┼───────────────────┤\n",
       "│ conv2d_transpose_8  │ (\u001b[38;5;45mNone\u001b[0m, \u001b[38;5;34m16\u001b[0m, \u001b[38;5;34m4\u001b[0m, \u001b[38;5;34m16\u001b[0m) │      \u001b[38;5;34m4,624\u001b[0m │ conv2d_transpose… │\n",
       "│ (\u001b[38;5;33mConv2DTranspose\u001b[0m)   │                   │            │                   │\n",
       "├─────────────────────┼───────────────────┼────────────┼───────────────────┤\n",
       "│ conv2d_8 (\u001b[38;5;33mConv2D\u001b[0m)   │ (\u001b[38;5;45mNone\u001b[0m, \u001b[38;5;34m16\u001b[0m, \u001b[38;5;34m4\u001b[0m, \u001b[38;5;34m4\u001b[0m)  │        \u001b[38;5;34m580\u001b[0m │ conv2d_transpose… │\n",
       "└─────────────────────┴───────────────────┴────────────┴───────────────────┘\n"
      ]
     },
     "metadata": {},
     "output_type": "display_data"
    },
    {
     "data": {
      "text/html": [
       "<pre style=\"white-space:pre;overflow-x:auto;line-height:normal;font-family:Menlo,'DejaVu Sans Mono',consolas,'Courier New',monospace\"><span style=\"font-weight: bold\"> Total params: </span><span style=\"color: #00af00; text-decoration-color: #00af00\">662,708</span> (2.53 MB)\n",
       "</pre>\n"
      ],
      "text/plain": [
       "\u001b[1m Total params: \u001b[0m\u001b[38;5;34m662,708\u001b[0m (2.53 MB)\n"
      ]
     },
     "metadata": {},
     "output_type": "display_data"
    },
    {
     "data": {
      "text/html": [
       "<pre style=\"white-space:pre;overflow-x:auto;line-height:normal;font-family:Menlo,'DejaVu Sans Mono',consolas,'Courier New',monospace\"><span style=\"font-weight: bold\"> Trainable params: </span><span style=\"color: #00af00; text-decoration-color: #00af00\">662,708</span> (2.53 MB)\n",
       "</pre>\n"
      ],
      "text/plain": [
       "\u001b[1m Trainable params: \u001b[0m\u001b[38;5;34m662,708\u001b[0m (2.53 MB)\n"
      ]
     },
     "metadata": {},
     "output_type": "display_data"
    },
    {
     "data": {
      "text/html": [
       "<pre style=\"white-space:pre;overflow-x:auto;line-height:normal;font-family:Menlo,'DejaVu Sans Mono',consolas,'Courier New',monospace\"><span style=\"font-weight: bold\"> Non-trainable params: </span><span style=\"color: #00af00; text-decoration-color: #00af00\">0</span> (0.00 B)\n",
       "</pre>\n"
      ],
      "text/plain": [
       "\u001b[1m Non-trainable params: \u001b[0m\u001b[38;5;34m0\u001b[0m (0.00 B)\n"
      ]
     },
     "metadata": {},
     "output_type": "display_data"
    }
   ],
   "source": [
    "import matplotlib.pyplot as plt\n",
    "\n",
    "# Initialize the DCGAN model\n",
    "dcgan = DCGAN(img_rows=16, img_cols=16, channel=4)\n",
    "\n",
    "# Get the models\n",
    "discriminator = dcgan.discriminator_model()\n",
    "generator = dcgan.generator()\n",
    "adversarial_model = dcgan.adversarial_model()\n",
    "\n",
    "# Lists to store losses\n",
    "d_losses = []\n",
    "g_losses = []"
   ]
  },
  {
   "cell_type": "code",
   "execution_count": 46,
   "metadata": {
    "execution": {
     "iopub.execute_input": "2024-12-13T04:44:13.325228Z",
     "iopub.status.busy": "2024-12-13T04:44:13.324569Z"
    },
    "trusted": true
   },
   "outputs": [
    {
     "ename": "ValueError",
     "evalue": "Value returned by __array__ is not a NumPy array",
     "output_type": "error",
     "traceback": [
      "\u001b[0;31m---------------------------------------------------------------------------\u001b[0m",
      "\u001b[0;31mValueError\u001b[0m                                Traceback (most recent call last)",
      "Cell \u001b[0;32mIn[46], line 38\u001b[0m\n\u001b[1;32m     36\u001b[0m latent_vectors \u001b[38;5;241m=\u001b[39m np\u001b[38;5;241m.\u001b[39mrandom\u001b[38;5;241m.\u001b[39mnormal(\u001b[38;5;241m0\u001b[39m, \u001b[38;5;241m1\u001b[39m, (half_batch, dcgan\u001b[38;5;241m.\u001b[39mlatent_dim))\n\u001b[1;32m     37\u001b[0m \u001b[38;5;66;03m# print(latent_vectors.shape, real_features.shape)\u001b[39;00m\n\u001b[0;32m---> 38\u001b[0m fake_features \u001b[38;5;241m=\u001b[39m \u001b[43mgenerator\u001b[49m\u001b[38;5;241;43m.\u001b[39;49m\u001b[43mpredict\u001b[49m\u001b[43m(\u001b[49m\u001b[43m[\u001b[49m\u001b[43mlatent_vectors\u001b[49m\u001b[43m,\u001b[49m\u001b[43m \u001b[49m\u001b[43mreal_features\u001b[49m\u001b[43m]\u001b[49m\u001b[43m)\u001b[49m\n\u001b[1;32m     39\u001b[0m fake_labels \u001b[38;5;241m=\u001b[39m np\u001b[38;5;241m.\u001b[39mzeros((half_batch, dcgan\u001b[38;5;241m.\u001b[39mlatent_dim))  \u001b[38;5;66;03m# Label as \"fake\"\u001b[39;00m\n\u001b[1;32m     41\u001b[0m \u001b[38;5;66;03m# Train discriminator on real and fake data\u001b[39;00m\n",
      "File \u001b[0;32m/opt/conda/lib/python3.10/site-packages/keras/src/utils/traceback_utils.py:122\u001b[0m, in \u001b[0;36mfilter_traceback.<locals>.error_handler\u001b[0;34m(*args, **kwargs)\u001b[0m\n\u001b[1;32m    119\u001b[0m     filtered_tb \u001b[38;5;241m=\u001b[39m _process_traceback_frames(e\u001b[38;5;241m.\u001b[39m__traceback__)\n\u001b[1;32m    120\u001b[0m     \u001b[38;5;66;03m# To get the full stack trace, call:\u001b[39;00m\n\u001b[1;32m    121\u001b[0m     \u001b[38;5;66;03m# `keras.config.disable_traceback_filtering()`\u001b[39;00m\n\u001b[0;32m--> 122\u001b[0m     \u001b[38;5;28;01mraise\u001b[39;00m e\u001b[38;5;241m.\u001b[39mwith_traceback(filtered_tb) \u001b[38;5;28;01mfrom\u001b[39;00m \u001b[38;5;28mNone\u001b[39m\n\u001b[1;32m    123\u001b[0m \u001b[38;5;28;01mfinally\u001b[39;00m:\n\u001b[1;32m    124\u001b[0m     \u001b[38;5;28;01mdel\u001b[39;00m filtered_tb\n",
      "File \u001b[0;32m/opt/conda/lib/python3.10/site-packages/tensorflow/python/framework/constant_op.py:108\u001b[0m, in \u001b[0;36mconvert_to_eager_tensor\u001b[0;34m(value, ctx, dtype)\u001b[0m\n\u001b[1;32m    106\u001b[0m     dtype \u001b[38;5;241m=\u001b[39m dtypes\u001b[38;5;241m.\u001b[39mas_dtype(dtype)\u001b[38;5;241m.\u001b[39mas_datatype_enum\n\u001b[1;32m    107\u001b[0m ctx\u001b[38;5;241m.\u001b[39mensure_initialized()\n\u001b[0;32m--> 108\u001b[0m \u001b[38;5;28;01mreturn\u001b[39;00m \u001b[43mops\u001b[49m\u001b[38;5;241;43m.\u001b[39;49m\u001b[43mEagerTensor\u001b[49m\u001b[43m(\u001b[49m\u001b[43mvalue\u001b[49m\u001b[43m,\u001b[49m\u001b[43m \u001b[49m\u001b[43mctx\u001b[49m\u001b[38;5;241;43m.\u001b[39;49m\u001b[43mdevice_name\u001b[49m\u001b[43m,\u001b[49m\u001b[43m \u001b[49m\u001b[43mdtype\u001b[49m\u001b[43m)\u001b[49m\n",
      "\u001b[0;31mValueError\u001b[0m: Value returned by __array__ is not a NumPy array"
     ]
    }
   ],
   "source": [
    "from tensorflow.keras.callbacks import ModelCheckpoint\n",
    "\n",
    "# Define checkpoint directory if it doesn't exist\n",
    "checkpoint_dir = './checkpoints'\n",
    "if not os.path.exists(checkpoint_dir):\n",
    "    os.makedirs(checkpoint_dir)\n",
    "\n",
    "# Define the checkpoint callback\n",
    "checkpoint_filepath = os.path.join(checkpoint_dir, 'gan_checkpoint_{epoch:02d}.weights.h5')\n",
    "# model_checkpoint_callback = ModelCheckpoint(\n",
    "#     filepath=checkpoint_filepath,\n",
    "#     save_freq='epoch',  # Save at the end of each epoch\n",
    "#     # save_weights_only=True,  # Save only the model weights\n",
    "#     verbose=1  # Print a message when saving\n",
    "# )\n",
    "\n",
    "# ... (Your existing code for GAN training) ...\n",
    "\n",
    "# for epoch in range(epochs):\n",
    "#     # ... (Your existing code inside the epoch loop) ...\n",
    "\n",
    "#     # Checkpoint saving at the end of each epoch\n",
    "#     adversarial_model.save_weights(checkpoint_filepath.format(epoch=epoch + 1)) \n",
    "#     print(f\"Checkpoint saved for epoch {epoch + 1}\")\n",
    "\n",
    "# Training loop\n",
    "for epoch in range(epochs):\n",
    "    for i in range(len(aggregated_tensor) // batch_size):\n",
    "        # --- Train Discriminator ---\n",
    "        # Get real samples\n",
    "        idx_real = np.random.randint(0, aggregated_tensor.shape[0], half_batch)\n",
    "        real_features = aggregated_tensor[idx_real]\n",
    "        real_labels = np.ones((half_batch, dcgan.latent_dim))  # Label as \"real\"\n",
    "\n",
    "        # Generate fake samples\n",
    "        latent_vectors = np.random.normal(0, 1, (half_batch, dcgan.latent_dim))\n",
    "        # print(latent_vectors.shape, real_features.shape)\n",
    "        fake_features = generator.predict([latent_vectors, real_features])\n",
    "        fake_labels = np.zeros((half_batch, dcgan.latent_dim))  # Label as \"fake\"\n",
    "\n",
    "        # Train discriminator on real and fake data\n",
    "        d_loss_real = discriminator.train_on_batch(real_features, real_labels)\n",
    "        d_loss_fake = discriminator.train_on_batch(fake_features, fake_labels)\n",
    "        d_loss = 0.5 * np.add(d_loss_real, d_loss_fake)\n",
    "\n",
    "        # --- Train Adversarial Model (Generator) ---\n",
    "        # Generate new latent vectors\n",
    "        latent_vectors = np.random.normal(0, 1, (batch_size, dcgan.latent_dim))\n",
    "        # Use ones as labels to \"fool\" the discriminator into classifying as real\n",
    "        valid_y = np.ones((batch_size, dcgan.latent_dim))\n",
    "\n",
    "        # Train generator via the adversarial model\n",
    "        batch_feature_input = aggregated_tensor[i * batch_size:(i + 1) * batch_size]\n",
    "        g_loss = adversarial_model.train_on_batch([latent_vectors, batch_feature_input], valid_y)\n",
    "\n",
    "        # Store losses\n",
    "        d_losses.append(d_loss)\n",
    "        g_losses.append(g_loss)\n",
    "\n",
    "    # Print progress\n",
    "    print(f\"Epoch {epoch + 1}/{epochs} - D Loss: {d_loss[0]:.4f}, D Accuracy: {d_loss[1]:.4f}, G Losses: {g_loss[0]:.4f}, {g_loss[1]:.4f}\")\n",
    "    #add checkpoint saving every 10 epochs\n",
    "    if (epoch + 1) % 10 == 0:\n",
    "        generator.save_weights(checkpoint_filepath.format(epoch=epoch + 1)) \n",
    "        print(f\"Checkpoint saved for epoch {epoch + 1}\")\n",
    "\n",
    "print(\"Training completed!\")\n",
    "\n",
    "# Plot the losses\n",
    "plt.figure(figsize=(10, 5))\n",
    "plt.plot(d_losses, label='Discriminator Loss')\n",
    "plt.plot(g_losses, label='Generator Loss')\n",
    "plt.xlabel('Batch')\n",
    "plt.ylabel('Loss')\n",
    "plt.legend()\n",
    "plt.title('Training Losses')\n",
    "plt.show()"
   ]
  },
  {
   "cell_type": "code",
   "execution_count": null,
   "metadata": {
    "trusted": true
   },
   "outputs": [],
   "source": []
  }
 ],
 "metadata": {
  "kaggle": {
   "accelerator": "nvidiaTeslaT4",
   "dataSources": [
    {
     "datasetId": 6293058,
     "sourceId": 10186520,
     "sourceType": "datasetVersion"
    }
   ],
   "dockerImageVersionId": 30805,
   "isGpuEnabled": true,
   "isInternetEnabled": true,
   "language": "python",
   "sourceType": "notebook"
  },
  "kernelspec": {
   "display_name": "Python 3 (ipykernel)",
   "language": "python",
   "name": "python3"
  },
  "language_info": {
   "codemirror_mode": {
    "name": "ipython",
    "version": 3
   },
   "file_extension": ".py",
   "mimetype": "text/x-python",
   "name": "python",
   "nbconvert_exporter": "python",
   "pygments_lexer": "ipython3",
   "version": "3.10.9"
  }
 },
 "nbformat": 4,
 "nbformat_minor": 4
}
